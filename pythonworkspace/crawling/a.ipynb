{
 "cells": [
  {
   "cell_type": "code",
   "execution_count": null,
   "metadata": {},
   "outputs": [],
   "source": [
    "from bs4 import BeautifulSoup\n",
    "import urllib.request\n",
    "import pandas as pd"
   ]
  },
  {
   "cell_type": "code",
   "execution_count": null,
   "metadata": {},
   "outputs": [],
   "source": [
    "result = []\n",
    "for page in range(1,59):\n",
    "    Hollys_url = 'https://www.hollys.co.kr/store/korea/korStore.do?pageNo=%d' %page\n",
    "    print(Hollys_url)\n",
    "    html = urllib.request.urlopen(Hollys_url)\n",
    "    soupHollys = BeautifulSoup(html, 'html.parser')\n",
    "    tag_tbody = soupHollys.find('tbody')\n",
    "    for store in tag_tbody.find_all('tr'):\n",
    "        if len(store) <= 3:\n",
    "            break\n",
    "        store_td = store.find_all('td')\n",
    "        store_name = store_td[1].string\n",
    "        store_sido = store_td[0].string\n",
    "        store_address = store_td[3].string\n",
    "        store_phone = store_td[5].string\n",
    "        result.append([store_name]+[store_sido]+[store_address]+[store_phone])"
   ]
  },
  {
   "cell_type": "code",
   "execution_count": null,
   "metadata": {},
   "outputs": [],
   "source": [
    "len(result)"
   ]
  },
  {
   "cell_type": "code",
   "execution_count": null,
   "metadata": {},
   "outputs": [],
   "source": [
    "result[0]"
   ]
  },
  {
   "cell_type": "code",
   "execution_count": null,
   "metadata": {},
   "outputs": [],
   "source": [
    "result[500]"
   ]
  },
  {
   "cell_type": "code",
   "execution_count": null,
   "metadata": {},
   "outputs": [],
   "source": [
    "# for로 갱신했으니 마지막 정보 들어감\n",
    "store_td"
   ]
  },
  {
   "cell_type": "code",
   "execution_count": null,
   "metadata": {},
   "outputs": [],
   "source": [
    "# 콘텐츠 갯수\n",
    "store_td[0].string,store_td[1].string,store_td[2].string,store_td[3].string,store_td[4].string,store_td[5].string"
   ]
  },
  {
   "cell_type": "code",
   "execution_count": null,
   "metadata": {},
   "outputs": [],
   "source": [
    "store_td[5].string"
   ]
  },
  {
   "cell_type": "code",
   "execution_count": null,
   "metadata": {},
   "outputs": [],
   "source": [
    "hollys_tbl = pd.DataFrame(result, columns=('store', 'sido-gu', 'address', 'phone'))"
   ]
  },
  {
   "cell_type": "code",
   "execution_count": null,
   "metadata": {},
   "outputs": [],
   "source": [
    "hollys_tbl.to_csv('./hollys.csv', encoding='UTF-8', mode='w', index=True)"
   ]
  },
  {
   "cell_type": "code",
   "execution_count": null,
   "metadata": {},
   "outputs": [],
   "source": [
    "from selenium import webdriver\n",
    "import time\n",
    "from selenium.webdriver.common.by import By\n",
    "from selenium.webdriver.common.keys import Keys"
   ]
  },
  {
   "cell_type": "code",
   "execution_count": null,
   "metadata": {},
   "outputs": [],
   "source": [
    "# chrome 이용\n",
    "driver = webdriver.Chrome()\n",
    "# 할리스 커피 이동\n",
    "url = 'https://www.hollys.co.kr/store/korea/korStore2.do'\n",
    "driver.get(url)\n",
    "time.sleep(0.5)\n",
    "\n",
    "search_input = driver.find_element(By.ID, 'store')\n",
    "search_input.send_keys('부산')\n",
    "time.sleep(0.5)\n",
    "search_input.send_keys(Keys.ENTER)\n",
    "time.sleep(0.5)\n",
    "\n",
    "busan_store = driver.find_elements(By.XPATH, '//*[@id=\"contents\"]/div[2]/fieldset/fieldset/div[1]/table/tbody')\n",
    "time.sleep(0.5)\n",
    "\n",
    "for busan_store_elements in busan_store:\n",
    "    # title = news_title_element.text\n",
    "    store_info = busan_store_elements.text\n",
    "    print(store_info)"
   ]
  },
  {
   "cell_type": "code",
   "execution_count": 1,
   "metadata": {},
   "outputs": [
    {
     "name": "stdout",
     "output_type": "stream",
     "text": [
      "부산 사상구\n",
      "부산사상광장점\n",
      "영업중\n",
      "부산광역시 사상구 광장로 22 (괘법동) 2층 사상구 괘법동 565-2\n",
      "\n",
      "051-322-4117\n",
      "부산 중구\n",
      "부산광복점\n",
      "영업중\n",
      "부산광역시 중구 광복로 70 (광복동2가) .\n",
      "\n",
      "051-253-8033\n",
      "부산 사상구\n",
      "부산서부터미널점\n",
      "영업중\n",
      "부산광역시 사상구 사상로 201 (괘법동, 서부시외버스터미널) .\n",
      "\n",
      "051-323-0305\n",
      "부산 북구\n",
      "부산화명점\n",
      "영업중\n",
      "부산광역시 북구 금곡대로285번길 13 (화명동, 스포렉스) 스포렉스 106호,107호,108호\n",
      "\n",
      "070-8884-1101\n",
      "부산 부산진구\n",
      "부산시민공원점\n",
      "영업중\n",
      "부산 부산진구 시민공원로 73, 푸드코트피크닉 범전동 200\n",
      "\n",
      ".\n",
      "부산 기장군\n",
      "부산일광신도시점\n",
      "영업중\n",
      "부산광역시 기장군 일광읍 해빛6로 43-20 삼성리 840-12\n",
      "\n",
      ".\n",
      "부산 사하구\n",
      "부산아트몰링영풍문고점\n",
      "영업중\n",
      "부산광역시 사하구 낙동남로 1413 (하단동, 아트몰링) 13층\n",
      "\n",
      "051-201-0621\n",
      "부산 부산진구\n",
      "부산동의대점\n",
      "영업중\n",
      "부산광역시 부산진구 엄광로 176 가야동, 동의대학교\n",
      "\n",
      "051-893-6679\n",
      "부산 서구\n",
      "부산서구청점\n",
      "영업중\n",
      "부산광역시 서구 보수대로 9 (충무동1가 3-1) 바른빌딩 1층 104호\n",
      "\n",
      "070-4647-1455\n",
      "부산 강서구\n",
      "가덕휴게소점\n",
      "영업중\n",
      "부산광역시 강서구 거가대로 2571 (천성동) .\n",
      "\n",
      "051-715-2200\n"
     ]
    }
   ],
   "source": [
    "from bs4 import BeautifulSoup\n",
    "import pandas as pd\n",
    "from selenium import webdriver\n",
    "from selenium.webdriver.common.by import By\n",
    "from selenium.webdriver.common.keys import Keys\n",
    "import time\n",
    "\n",
    "driver = webdriver.Chrome()\n",
    "\n",
    "url = 'https://www.hollys.co.kr/store/korea/korStore2.do'\n",
    "\n",
    "driver.get(url)\n",
    "\n",
    "search_input = driver.find_element(By.ID, 'store')\n",
    "search_input.send_keys('부산')\n",
    "time.sleep(0.5)\n",
    "search_input.send_keys(Keys.ENTER)\n",
    "time.sleep(0.5)\n",
    "\n",
    "html = driver.page_source\n",
    "soup = BeautifulSoup(html, 'html.parser')\n",
    "store_name = soup.select('table.tb_store > tbody > tr > td')\n",
    "\n",
    "store_info = []\n",
    "for index in store_name:\n",
    "    print(index.text.strip())\n",
    "    store_info.append(index.text)\n",
    "\n",
    "df = pd.DataFrame()\n",
    "df['store_name'] = store_info\n",
    "\n",
    "df.to_csv('./hollys_info.csv')\n",
    "    "
   ]
  }
 ],
 "metadata": {
  "kernelspec": {
   "display_name": "Python 3",
   "language": "python",
   "name": "python3"
  },
  "language_info": {
   "codemirror_mode": {
    "name": "ipython",
    "version": 3
   },
   "file_extension": ".py",
   "mimetype": "text/x-python",
   "name": "python",
   "nbconvert_exporter": "python",
   "pygments_lexer": "ipython3",
   "version": "3.12.2"
  }
 },
 "nbformat": 4,
 "nbformat_minor": 2
}

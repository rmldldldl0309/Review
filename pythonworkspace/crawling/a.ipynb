{
 "cells": [
  {
   "cell_type": "code",
   "execution_count": 26,
   "metadata": {},
   "outputs": [],
   "source": [
    "from bs4 import BeautifulSoup\n",
    "import urllib.request\n",
    "import pandas as pd"
   ]
  },
  {
   "cell_type": "code",
   "execution_count": 7,
   "metadata": {},
   "outputs": [
    {
     "name": "stdout",
     "output_type": "stream",
     "text": [
      "https://www.hollys.co.kr/store/korea/korStore.do?pageNo=1\n",
      "https://www.hollys.co.kr/store/korea/korStore.do?pageNo=2\n",
      "https://www.hollys.co.kr/store/korea/korStore.do?pageNo=3\n",
      "https://www.hollys.co.kr/store/korea/korStore.do?pageNo=4\n",
      "https://www.hollys.co.kr/store/korea/korStore.do?pageNo=5\n",
      "https://www.hollys.co.kr/store/korea/korStore.do?pageNo=6\n",
      "https://www.hollys.co.kr/store/korea/korStore.do?pageNo=7\n",
      "https://www.hollys.co.kr/store/korea/korStore.do?pageNo=8\n",
      "https://www.hollys.co.kr/store/korea/korStore.do?pageNo=9\n",
      "https://www.hollys.co.kr/store/korea/korStore.do?pageNo=10\n",
      "https://www.hollys.co.kr/store/korea/korStore.do?pageNo=11\n",
      "https://www.hollys.co.kr/store/korea/korStore.do?pageNo=12\n",
      "https://www.hollys.co.kr/store/korea/korStore.do?pageNo=13\n",
      "https://www.hollys.co.kr/store/korea/korStore.do?pageNo=14\n",
      "https://www.hollys.co.kr/store/korea/korStore.do?pageNo=15\n",
      "https://www.hollys.co.kr/store/korea/korStore.do?pageNo=16\n",
      "https://www.hollys.co.kr/store/korea/korStore.do?pageNo=17\n",
      "https://www.hollys.co.kr/store/korea/korStore.do?pageNo=18\n",
      "https://www.hollys.co.kr/store/korea/korStore.do?pageNo=19\n",
      "https://www.hollys.co.kr/store/korea/korStore.do?pageNo=20\n",
      "https://www.hollys.co.kr/store/korea/korStore.do?pageNo=21\n",
      "https://www.hollys.co.kr/store/korea/korStore.do?pageNo=22\n",
      "https://www.hollys.co.kr/store/korea/korStore.do?pageNo=23\n",
      "https://www.hollys.co.kr/store/korea/korStore.do?pageNo=24\n",
      "https://www.hollys.co.kr/store/korea/korStore.do?pageNo=25\n",
      "https://www.hollys.co.kr/store/korea/korStore.do?pageNo=26\n",
      "https://www.hollys.co.kr/store/korea/korStore.do?pageNo=27\n",
      "https://www.hollys.co.kr/store/korea/korStore.do?pageNo=28\n",
      "https://www.hollys.co.kr/store/korea/korStore.do?pageNo=29\n",
      "https://www.hollys.co.kr/store/korea/korStore.do?pageNo=30\n",
      "https://www.hollys.co.kr/store/korea/korStore.do?pageNo=31\n",
      "https://www.hollys.co.kr/store/korea/korStore.do?pageNo=32\n",
      "https://www.hollys.co.kr/store/korea/korStore.do?pageNo=33\n",
      "https://www.hollys.co.kr/store/korea/korStore.do?pageNo=34\n",
      "https://www.hollys.co.kr/store/korea/korStore.do?pageNo=35\n",
      "https://www.hollys.co.kr/store/korea/korStore.do?pageNo=36\n",
      "https://www.hollys.co.kr/store/korea/korStore.do?pageNo=37\n",
      "https://www.hollys.co.kr/store/korea/korStore.do?pageNo=38\n",
      "https://www.hollys.co.kr/store/korea/korStore.do?pageNo=39\n",
      "https://www.hollys.co.kr/store/korea/korStore.do?pageNo=40\n",
      "https://www.hollys.co.kr/store/korea/korStore.do?pageNo=41\n",
      "https://www.hollys.co.kr/store/korea/korStore.do?pageNo=42\n",
      "https://www.hollys.co.kr/store/korea/korStore.do?pageNo=43\n",
      "https://www.hollys.co.kr/store/korea/korStore.do?pageNo=44\n",
      "https://www.hollys.co.kr/store/korea/korStore.do?pageNo=45\n",
      "https://www.hollys.co.kr/store/korea/korStore.do?pageNo=46\n",
      "https://www.hollys.co.kr/store/korea/korStore.do?pageNo=47\n",
      "https://www.hollys.co.kr/store/korea/korStore.do?pageNo=48\n",
      "https://www.hollys.co.kr/store/korea/korStore.do?pageNo=49\n",
      "https://www.hollys.co.kr/store/korea/korStore.do?pageNo=50\n",
      "https://www.hollys.co.kr/store/korea/korStore.do?pageNo=51\n",
      "https://www.hollys.co.kr/store/korea/korStore.do?pageNo=52\n",
      "https://www.hollys.co.kr/store/korea/korStore.do?pageNo=53\n",
      "https://www.hollys.co.kr/store/korea/korStore.do?pageNo=54\n",
      "https://www.hollys.co.kr/store/korea/korStore.do?pageNo=55\n",
      "https://www.hollys.co.kr/store/korea/korStore.do?pageNo=56\n",
      "https://www.hollys.co.kr/store/korea/korStore.do?pageNo=57\n",
      "https://www.hollys.co.kr/store/korea/korStore.do?pageNo=58\n"
     ]
    }
   ],
   "source": [
    "result = []\n",
    "for page in range(1,59):\n",
    "    Hollys_url = 'https://www.hollys.co.kr/store/korea/korStore.do?pageNo=%d' %page\n",
    "    print(Hollys_url)\n",
    "    html = urllib.request.urlopen(Hollys_url)\n",
    "    soupHollys = BeautifulSoup(html, 'html.parser')\n",
    "    tag_tbody = soupHollys.find('tbody')\n",
    "    for store in tag_tbody.find_all('tr'):\n",
    "        if len(store) <= 3:\n",
    "            break\n",
    "        store_td = store.find_all('td')\n",
    "        store_name = store_td[1].string\n",
    "        store_sido = store_td[0].string\n",
    "        store_address = store_td[3].string\n",
    "        store_phone = store_td[5].string\n",
    "        result.append([store_name]+[store_sido]+[store_address]+[store_phone])"
   ]
  },
  {
   "cell_type": "code",
   "execution_count": 8,
   "metadata": {},
   "outputs": [
    {
     "data": {
      "text/plain": [
       "567"
      ]
     },
     "execution_count": 8,
     "metadata": {},
     "output_type": "execute_result"
    }
   ],
   "source": [
    "len(result)"
   ]
  },
  {
   "cell_type": "code",
   "execution_count": 9,
   "metadata": {},
   "outputs": [
    {
     "data": {
      "text/plain": [
       "['부천심곡점', '경기 부천시 소사구', '경기도 부천시 장말로 376 심곡동 355-1', '032-612-7258']"
      ]
     },
     "execution_count": 9,
     "metadata": {},
     "output_type": "execute_result"
    }
   ],
   "source": [
    "result[0]"
   ]
  },
  {
   "cell_type": "code",
   "execution_count": 10,
   "metadata": {},
   "outputs": [
    {
     "data": {
      "text/plain": [
       "['종로3가점', '서울 종로구', '서울특별시 종로구 종로 113 ', '02-747-0221']"
      ]
     },
     "execution_count": 10,
     "metadata": {},
     "output_type": "execute_result"
    }
   ],
   "source": [
    "result[500]"
   ]
  },
  {
   "cell_type": "code",
   "execution_count": 12,
   "metadata": {},
   "outputs": [
    {
     "data": {
      "text/plain": [
       "[<td class=\"noline center_t\">경기 성남시 수정구</td>,\n",
       " <td class=\"center_t\"><a href=\"#\" onclick=\"javascript:storeView(11); return false;\">성남점</a></td>,\n",
       " <td class=\"center_t tdp0\">영업중</td>,\n",
       " <td class=\"center_t\"><a href=\"#\" onclick=\"javascript:storeView(11); return false;\">경기도 성남시 수정구 수정로 175, 동일빌딩1층</a></td>,\n",
       " <td class=\"center_t\">\n",
       " <img alt=\"흡연시설\" src=\"https://www.hollys.co.kr/websrc/images/store/img_store_s04.gif\" style=\"margin-right:1px\"/>\n",
       " </td>,\n",
       " <td class=\"center_t\">031-721-6369</td>]"
      ]
     },
     "execution_count": 12,
     "metadata": {},
     "output_type": "execute_result"
    }
   ],
   "source": [
    "# for로 갱신했으니 마지막 정보 들어감\n",
    "store_td"
   ]
  },
  {
   "cell_type": "code",
   "execution_count": 25,
   "metadata": {},
   "outputs": [
    {
     "data": {
      "text/plain": [
       "('경기 성남시 수정구',\n",
       " '성남점',\n",
       " '영업중',\n",
       " '경기도 성남시 수정구 수정로 175, 동일빌딩1층',\n",
       " None,\n",
       " '031-721-6369')"
      ]
     },
     "execution_count": 25,
     "metadata": {},
     "output_type": "execute_result"
    }
   ],
   "source": [
    "# 콘텐츠 갯수\n",
    "store_td[0].string,store_td[1].string,store_td[2].string,store_td[3].string,store_td[4].string,store_td[5].string"
   ]
  },
  {
   "cell_type": "code",
   "execution_count": 27,
   "metadata": {},
   "outputs": [
    {
     "data": {
      "text/plain": [
       "'031-721-6369'"
      ]
     },
     "execution_count": 27,
     "metadata": {},
     "output_type": "execute_result"
    }
   ],
   "source": [
    "store_td[5].string"
   ]
  },
  {
   "cell_type": "code",
   "execution_count": 28,
   "metadata": {},
   "outputs": [],
   "source": [
    "hollys_tbl = pd.DataFrame(result, columns=('store', 'sido-gu', 'address', 'phone'))"
   ]
  },
  {
   "cell_type": "code",
   "execution_count": 33,
   "metadata": {},
   "outputs": [],
   "source": [
    "hollys_tbl.to_csv('./hollys.csv', encoding='UTF-8', mode='w', index=True)"
   ]
  }
 ],
 "metadata": {
  "kernelspec": {
   "display_name": "Python 3",
   "language": "python",
   "name": "python3"
  },
  "language_info": {
   "codemirror_mode": {
    "name": "ipython",
    "version": 3
   },
   "file_extension": ".py",
   "mimetype": "text/x-python",
   "name": "python",
   "nbconvert_exporter": "python",
   "pygments_lexer": "ipython3",
   "version": "3.12.2"
  }
 },
 "nbformat": 4,
 "nbformat_minor": 2
}

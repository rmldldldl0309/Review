{
 "cells": [
  {
   "cell_type": "code",
   "execution_count": null,
   "metadata": {},
   "outputs": [],
   "source": [
    "import pandas as pd\n",
    "import numpy as np"
   ]
  },
  {
   "cell_type": "markdown",
   "metadata": {},
   "source": [
    "### 판다스 데이터 입출력\n",
    "판다스는 아래와 같은 형식의 데이터를 입력받아 데이터프레임을 만들 수 있다\n",
    "- CSV\n",
    "- Excel\n",
    "- Html\n",
    "- JSON\n",
    "- HDF5\n",
    "- SAS\n",
    "- STATA\n",
    "- SQL\n",
    "  \n",
    "가장 많이 사용되는 포멧은 CSV, JSON, SQL"
   ]
  },
  {
   "cell_type": "markdown",
   "metadata": {},
   "source": [
    "## `%%writefile`명령\n",
    "`%%writefile`명령어를 사용하여 파이썬에서 파일을 생성할 수 있다."
   ]
  },
  {
   "cell_type": "code",
   "execution_count": null,
   "metadata": {},
   "outputs": [],
   "source": [
    "%%writefile sample.csv\n",
    "c1, c2, c3\n",
    "1, 1.11, one\n",
    "2, 2.22, two\n",
    "3, 3.33, three"
   ]
  },
  {
   "cell_type": "markdown",
   "metadata": {},
   "source": [
    "#### CSV파일 입력\n",
    "판다스 패키지의 `read_csv`메서드를 사용하여 로컬에 존재하는 CSV파일을 읽을 수 있다"
   ]
  },
  {
   "cell_type": "code",
   "execution_count": null,
   "metadata": {},
   "outputs": [],
   "source": [
    "pd.read_csv('sample.csv')"
   ]
  },
  {
   "cell_type": "markdown",
   "metadata": {},
   "source": [
    "만약 데이터에 열 인덱스가 존재하지 않는다면 `read_csv`메서드의 `names`속성으로 열 인덱스를 지정할 수 있다"
   ]
  },
  {
   "cell_type": "code",
   "execution_count": null,
   "metadata": {},
   "outputs": [],
   "source": [
    "%%writefile sample2.csv\n",
    "1, 1.11, one\n",
    "2, 2.22, two\n",
    "3, 3.33, three"
   ]
  },
  {
   "cell_type": "code",
   "execution_count": null,
   "metadata": {},
   "outputs": [],
   "source": [
    "pd.read_csv('sample2.csv',names = ['c1', 'c2', 'c3'])"
   ]
  },
  {
   "cell_type": "markdown",
   "metadata": {},
   "source": [
    "CSV의 특정 열을 행 인덱스로 사용하고 싶을때는 `read_csv`메서드의 `index_col`속성으로 지정할 수 있다"
   ]
  },
  {
   "cell_type": "code",
   "execution_count": null,
   "metadata": {},
   "outputs": [],
   "source": [
    "df = pd.read_csv('sample2.csv', index_col='c1')\n",
    "df"
   ]
  },
  {
   "cell_type": "markdown",
   "metadata": {},
   "source": [
    "특정한 값을 `NaN`으로 변경하고 싶으면 `na_values`속성으로 `NaN`으로 취급할 값을 리스트로 지정함"
   ]
  },
  {
   "cell_type": "code",
   "execution_count": null,
   "metadata": {},
   "outputs": [],
   "source": [
    "%%writefile sample3.csv\n",
    "c1,c2, c3\n",
    "1, 1.11, one\n",
    "2,,two\n",
    "누락, 3.33,three"
   ]
  },
  {
   "cell_type": "code",
   "execution_count": null,
   "metadata": {},
   "outputs": [],
   "source": [
    "df = pd.read_csv('sample3.csv', na_values=['누락', ''])\n",
    "df"
   ]
  },
  {
   "cell_type": "markdown",
   "metadata": {},
   "source": [
    "### Dataframe을 CSV 파일로 출력\n",
    "`to_csv()` 메서드로 데이터프레임을 csv파일로 출력할 수 있다"
   ]
  },
  {
   "cell_type": "code",
   "execution_count": null,
   "metadata": {},
   "outputs": [],
   "source": [
    "df.to_csv('sample4.csv')"
   ]
  },
  {
   "cell_type": "markdown",
   "metadata": {},
   "source": [
    "파일을 출력할 때 구분자를 변경하고 싶으면 `sep`속성에 구분자를 지정함"
   ]
  },
  {
   "cell_type": "code",
   "execution_count": null,
   "metadata": {},
   "outputs": [],
   "source": [
    "df.to_csv('sample5.csv',sep='_')"
   ]
  },
  {
   "cell_type": "markdown",
   "metadata": {},
   "source": [
    "`NaN`값에 대해 표시를 변경하고 싶으면 `na_rep`속성에 표시할 값을 지정함"
   ]
  },
  {
   "cell_type": "code",
   "execution_count": null,
   "metadata": {},
   "outputs": [],
   "source": [
    "df.to_csv('sample6.csv',na_rep = '누락')"
   ]
  },
  {
   "cell_type": "markdown",
   "metadata": {},
   "source": [
    "`index`,`header`속성으로 행 인덱스 및 열 인덱스의 출력 여부를 지정함"
   ]
  },
  {
   "cell_type": "code",
   "execution_count": null,
   "metadata": {},
   "outputs": [],
   "source": [
    "df.to_csv('sample7.csv',index=False,header=False)"
   ]
  },
  {
   "cell_type": "markdown",
   "metadata": {},
   "source": [
    "### 인터넷 상의 CSV파일 입력\n",
    "로컬에 존재하는 CSV파일 뿐만 아니라 웹상에 존재하는 csv파일도 `read_csv()`메서드로 읽을 수 있다"
   ]
  },
  {
   "cell_type": "code",
   "execution_count": null,
   "metadata": {},
   "outputs": [],
   "source": [
    "df = pd.read_csv(\"https://raw.githubusercontent.com/datascienceschool/docker_rpython/master/data/titanic.csv\")\n",
    "df"
   ]
  },
  {
   "cell_type": "code",
   "execution_count": null,
   "metadata": {},
   "outputs": [],
   "source": [
    "df.tail(4)"
   ]
  },
  {
   "cell_type": "markdown",
   "metadata": {},
   "source": [
    "### 데이터베이스 입력\n",
    "데이터베이스에 있는 데이터를 데이터프레임으로 받아오기 위해서는 각DBMS에 맞는 connector를 사용하여야 한다  \n",
    "  \n",
    "##### mysql connector  \n",
    "```bash\n",
    "pip install mysql-connoector-python\n",
    "``` \n",
    "  \n",
    "```python\n",
    "import mysql.connector\n",
    "```  "
   ]
  },
  {
   "cell_type": "code",
   "execution_count": null,
   "metadata": {},
   "outputs": [],
   "source": [
    "import mysql.connector"
   ]
  },
  {
   "cell_type": "code",
   "execution_count": null,
   "metadata": {},
   "outputs": [],
   "source": [
    "try:\n",
    "    conn = mysql.connector.connect(\n",
    "        host='127.0.0.1',\n",
    "        user='root',\n",
    "        password='root',\n",
    "        database='real_estate'\n",
    "    )\n",
    "    if conn.is_connected():\n",
    "        conn.close      \n",
    "        print('데이터베이스 연결 성공')\n",
    "\n",
    "except Exception as e:\n",
    "    print('데이터 베이스 접속 실패', e)\n",
    "finally:\n",
    "    if conn.is_connected():\n",
    "        conn.close      \n",
    "        print('데이터베이스 연결 해제')"
   ]
  },
  {
   "cell_type": "markdown",
   "metadata": {},
   "source": [
    "데이터베이스 연결 수 쿼리 작업을 할 때는 `cursor`객체를 사용"
   ]
  },
  {
   "cell_type": "code",
   "execution_count": null,
   "metadata": {},
   "outputs": [],
   "source": [
    "try:\n",
    "    conn = mysql.connector.connect(\n",
    "        host='127.0.0.1',\n",
    "        user='root',\n",
    "        password='root',\n",
    "        database='real_estate'\n",
    "    )\n",
    "    if conn.is_connected():\n",
    "        cursor = conn.cursor()\n",
    "        query = 'SELECT * FROM user'\n",
    "        cursor.execute(query)\n",
    "\n",
    "        for record in cursor:\n",
    "            print(record)\n",
    "\n",
    "except Exception as e:\n",
    "    print('데이터 베이스 접속 실패', e)\n",
    "finally:\n",
    "    if conn.is_connected():\n",
    "        conn.close      \n",
    "        print('데이터베이스 연결 해제')"
   ]
  },
  {
   "cell_type": "markdown",
   "metadata": {},
   "source": [
    "판다스 패키지의 `real_sql_query()`메서드로 데이터베이스 조회 결과를 바로 데이터프레임으로 만들 수 있다"
   ]
  },
  {
   "cell_type": "code",
   "execution_count": null,
   "metadata": {},
   "outputs": [],
   "source": [
    "try:\n",
    "    conn = mysql.connector.connect(\n",
    "        host='127.0.0.1',\n",
    "        user='root',\n",
    "        password='root',\n",
    "        database='real_estate'\n",
    "    )\n",
    "    if conn.is_connected():\n",
    "        cursor = conn.cursor()\n",
    "        query = 'SELECT * FROM user'\n",
    "        df = pd.read_sql_query(query,conn)\n",
    "        print(df)\n",
    "\n",
    "        for record in cursor:\n",
    "            print(record)\n",
    "\n",
    "except Exception as e:\n",
    "    print('데이터 베이스 접속 실패', e)\n",
    "finally:\n",
    "    if conn.is_connected():\n",
    "        conn.close      \n",
    "        print('데이터베이스 연결 해제')"
   ]
  },
  {
   "cell_type": "code",
   "execution_count": null,
   "metadata": {},
   "outputs": [],
   "source": [
    "try:\n",
    "    conn = mysql.connector.connect(\n",
    "        host='127.0.0.1',\n",
    "        user='root',\n",
    "        password='root',\n",
    "        database='real_estate'\n",
    "    )\n",
    "    if conn.is_connected():\n",
    "        cursor = conn.cursor()\n",
    "        query = 'SELECT * FROM officetel_estate'\n",
    "        df = pd.read_sql_query(query,conn)\n",
    "        print(df)\n",
    "\n",
    "        for record in cursor:\n",
    "            print(record)\n",
    "\n",
    "except Exception as e:\n",
    "    print('데이터 베이스 접속 실패', e)\n",
    "finally:\n",
    "    if conn.is_connected():\n",
    "        conn.close      \n",
    "        print('데이터베이스 연결 해제')"
   ]
  }
 ],
 "metadata": {
  "kernelspec": {
   "display_name": "Python 3",
   "language": "python",
   "name": "python3"
  },
  "language_info": {
   "codemirror_mode": {
    "name": "ipython",
    "version": 3
   },
   "file_extension": ".py",
   "mimetype": "text/x-python",
   "name": "python",
   "nbconvert_exporter": "python",
   "pygments_lexer": "ipython3",
   "version": "3.12.2"
  }
 },
 "nbformat": 4,
 "nbformat_minor": 2
}

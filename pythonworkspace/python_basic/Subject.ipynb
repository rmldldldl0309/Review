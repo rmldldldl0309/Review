{
 "cells": [
  {
   "cell_type": "code",
   "execution_count": null,
   "metadata": {},
   "outputs": [],
   "source": [
    "# 윤년\n",
    "# 변수 y의 값이 윤년이면 “윤년입니다”를 출력하고 아니라면 “윤년이 아닙니다”라고 출력하는 프로그램을 만든다. \n",
    "# 윤년은 2월 29일이 있는 해로 다음과 같이 정해진다."
   ]
  },
  {
   "cell_type": "code",
   "execution_count": 5,
   "metadata": {},
   "outputs": [
    {
     "name": "stdout",
     "output_type": "stream",
     "text": [
      "윤년이 아닙니다\n"
     ]
    }
   ],
   "source": [
    "year = int(input())\n",
    "answer = ''\n",
    "if year % 4 == 0:\n",
    "    if year % 400 == 0:\n",
    "        answer = '윤년입니다'\n",
    "    elif year % 100 == 0:\n",
    "        answer = '윤년이 아닙니다'\n",
    "    else:\n",
    "        answer = '윤년입니다'\n",
    "else:\n",
    "    answer = '윤년이 아닙니다'\n",
    "\n",
    "print(answer)"
   ]
  },
  {
   "cell_type": "code",
   "execution_count": null,
   "metadata": {},
   "outputs": [],
   "source": [
    "# 죄수의 딜레마\n",
    "# 죄수를 나타내는 변수 XA, XB는 자백하면 True, 그렇지 않으면 False를 가지는 값이다.\n",
    "# 이때 변수 XA, XB 값에 따라 각각이 복역해야 하는 연 수를 변수 YA, YB라고 할 때 YA, YB를 계산하는 프로그램을 만든다."
   ]
  },
  {
   "cell_type": "code",
   "execution_count": null,
   "metadata": {},
   "outputs": [],
   "source": [
    "XA = input('A의 선택: ')\n",
    "XB = input('B의 선택: ')\n",
    "YA = 0\n",
    "YB = 0\n",
    "if XA == '1':\n",
    "    if XB == '1':\n",
    "        YA = 5\n",
    "        YB = 5\n",
    "    elif XB == '0':\n",
    "        YB = 10\n",
    "elif XA == '0':\n",
    "    if XB == '1':\n",
    "        YA = 10\n",
    "    elif XB == '0':\n",
    "        YA = 1\n",
    "        YB = 1\n",
    "\n",
    "print(f'A의 복역연 수 : {YA} \\nB의 복역연 수  : {YB}')"
   ]
  }
 ],
 "metadata": {
  "kernelspec": {
   "display_name": "Python 3",
   "language": "python",
   "name": "python3"
  },
  "language_info": {
   "codemirror_mode": {
    "name": "ipython",
    "version": 3
   },
   "file_extension": ".py",
   "mimetype": "text/x-python",
   "name": "python",
   "nbconvert_exporter": "python",
   "pygments_lexer": "ipython3",
   "version": "3.12.2"
  }
 },
 "nbformat": 4,
 "nbformat_minor": 2
}

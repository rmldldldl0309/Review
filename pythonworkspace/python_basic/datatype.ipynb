{
 "cells": [
  {
   "cell_type": "code",
   "execution_count": null,
   "metadata": {},
   "outputs": [],
   "source": [
    "# 변수의 메모리 크기를 확인할 때는 sys패키지의 getsizeof메서드를 사용할 수 있다"
   ]
  },
  {
   "cell_type": "code",
   "execution_count": null,
   "metadata": {},
   "outputs": [],
   "source": [
    "from sys import getsizeof"
   ]
  },
  {
   "cell_type": "code",
   "execution_count": null,
   "metadata": {},
   "outputs": [],
   "source": [
    "variable = 1\n",
    "getsizeof(variable)"
   ]
  },
  {
   "cell_type": "code",
   "execution_count": null,
   "metadata": {},
   "outputs": [],
   "source": [
    "variable = 1.0\n",
    "getsizeof(variable)"
   ]
  },
  {
   "cell_type": "code",
   "execution_count": null,
   "metadata": {},
   "outputs": [],
   "source": [
    "# type() 내장함수를 사용하여 데이터의 타입을 확인할 수 있음"
   ]
  },
  {
   "cell_type": "code",
   "execution_count": null,
   "metadata": {},
   "outputs": [],
   "source": [
    "# NoneType: 값이 지정되지 않음(null과 같음)\n",
    "variable = None\n",
    "type(variable)"
   ]
  },
  {
   "cell_type": "code",
   "execution_count": null,
   "metadata": {},
   "outputs": [],
   "source": [
    "# int: 정수타입\n",
    "variable = 1\n",
    "type(variable)"
   ]
  },
  {
   "cell_type": "code",
   "execution_count": null,
   "metadata": {},
   "outputs": [],
   "source": [
    "# float: 정수타입\n",
    "variable = 1.0\n",
    "type(variable)"
   ]
  },
  {
   "cell_type": "code",
   "execution_count": null,
   "metadata": {},
   "outputs": [],
   "source": [
    "# str: 문자열타입\n",
    "variable = '1.0'\n",
    "type(variable)"
   ]
  },
  {
   "cell_type": "code",
   "execution_count": null,
   "metadata": {},
   "outputs": [],
   "source": [
    "# list: 리스트타입\n",
    "variable = [1, 2, 3]\n",
    "type(variable)"
   ]
  },
  {
   "cell_type": "code",
   "execution_count": null,
   "metadata": {},
   "outputs": [],
   "source": [
    "# tuple: 튜플타입\n",
    "variable = 1, 2, 3\n",
    "type(variable)"
   ]
  },
  {
   "cell_type": "code",
   "execution_count": null,
   "metadata": {},
   "outputs": [],
   "source": [
    "# dict: 딕셔너리타입\n",
    "variable = {'a':1, 'b':2}\n",
    "type(variable)"
   ]
  },
  {
   "cell_type": "code",
   "execution_count": null,
   "metadata": {},
   "outputs": [],
   "source": [
    "# function: 함수타입\n",
    "def func():\n",
    "    pass\n",
    "type(func)"
   ]
  },
  {
   "cell_type": "code",
   "execution_count": null,
   "metadata": {},
   "outputs": [],
   "source": [
    "# 오늘 날짜를 나타내는 문자열과 생일을 나타내는 문자열이 다음과 같을 때 만 나이를 구하라. (힌트: 숫자로 바꾼 뒤 빼기 연산을 한다.)\n",
    "\n",
    "# 문자열 슬라이싱 - 문자열도 배열과 동일한 방법으로 슬라이싱 할 수 있음\n",
    "# 문자열 분리하기 - 문자열.split('구분문자')으로 구분문자 기준으로 문자열을 분리하여 문자열을 생성\n",
    "# today = \"2020-10-25\"\n",
    "# birthday = \"2020-11-21\""
   ]
  },
  {
   "cell_type": "code",
   "execution_count": null,
   "metadata": {},
   "outputs": [],
   "source": [
    "# ex\n",
    "a = 'a, b, c, d'\n",
    "a_list = a.split(',')\n",
    "a_list"
   ]
  },
  {
   "cell_type": "code",
   "execution_count": null,
   "metadata": {},
   "outputs": [],
   "source": [
    "a[:3]"
   ]
  },
  {
   "cell_type": "code",
   "execution_count": null,
   "metadata": {},
   "outputs": [],
   "source": [
    "today = \"2020-10-25\"\n",
    "birthday = \"2010-11-21\"\n",
    "age = 0\n",
    "\n",
    "today_list = today.split('-')\n",
    "birthday_list = birthday.split('-')\n",
    "\n",
    "if today_list[1] > birthday_list[1]:\n",
    "    age = int(today_list[0]) - int(birthday_list[0])\n",
    "else:\n",
    "    age = int(today_list[0]) - int(birthday_list[0]) - 1\n",
    "age\n",
    "    "
   ]
  },
  {
   "cell_type": "code",
   "execution_count": null,
   "metadata": {},
   "outputs": [],
   "source": [
    "today = \"2020-10-25\"\n",
    "birthday = \"2010-11-21\"\n",
    "age = 0\n",
    "\n",
    "# spread\n",
    "today_year, today_month, today_day = today.split('-')\n",
    "# 2020 10 25\n",
    "birthday_year, birthday_month, birthday_day = birthday.split('-')\n",
    "\n",
    "age = int(today_year) - int(birthday_year)\n",
    "if today_month < birthday_month:\n",
    "    age -= 1 \n",
    "elif today_month == birthday_month and today_day < birthday_day:\n",
    "    age -= 1\n",
    "    \n",
    "age\n",
    "    "
   ]
  },
  {
   "cell_type": "code",
   "execution_count": null,
   "metadata": {},
   "outputs": [],
   "source": [
    "# 변형 자료형, 불변형 자료형\n",
    "# 변형 자료형: 변수에 담겨있는 데이터를 변경하더라도 주소는 변경이 되지 않는다\n",
    "# 불변형 자료형: 변수에 담겨있는 데이터를 변경하면 원래 있던 주소가 변경된다\n",
    "\n",
    "# 변형 자료형: 리스트, 딕셔너리\n",
    "# 불변형 자료형: 정수, 실수, 문자열, 논리, 튜플"
   ]
  },
  {
   "cell_type": "code",
   "execution_count": 76,
   "metadata": {},
   "outputs": [
    {
     "data": {
      "text/plain": [
       "140711530482392"
      ]
     },
     "execution_count": 76,
     "metadata": {},
     "output_type": "execute_result"
    }
   ],
   "source": [
    "variable = 10\n",
    "id(variable)"
   ]
  },
  {
   "cell_type": "code",
   "execution_count": 77,
   "metadata": {},
   "outputs": [
    {
     "data": {
      "text/plain": [
       "140711530482424"
      ]
     },
     "execution_count": 77,
     "metadata": {},
     "output_type": "execute_result"
    }
   ],
   "source": [
    "variable = 11\n",
    "id(variable)"
   ]
  },
  {
   "cell_type": "code",
   "execution_count": null,
   "metadata": {},
   "outputs": [],
   "source": [
    "variable = '문자열'\n",
    "id(variable)"
   ]
  },
  {
   "cell_type": "code",
   "execution_count": null,
   "metadata": {},
   "outputs": [],
   "source": [
    "variable.replace('문', '곰')\n",
    "id(variable)"
   ]
  },
  {
   "cell_type": "code",
   "execution_count": null,
   "metadata": {},
   "outputs": [],
   "source": [
    "variable2 = variable.replace('문', '곰')\n",
    "id(variable2)"
   ]
  },
  {
   "cell_type": "code",
   "execution_count": 78,
   "metadata": {},
   "outputs": [
    {
     "data": {
      "text/plain": [
       "2165622310464"
      ]
     },
     "execution_count": 78,
     "metadata": {},
     "output_type": "execute_result"
    }
   ],
   "source": [
    "variable = [1, 2, 3]\n",
    "id(variable)"
   ]
  },
  {
   "cell_type": "code",
   "execution_count": null,
   "metadata": {},
   "outputs": [],
   "source": [
    "variable.append(4)\n",
    "variable"
   ]
  },
  {
   "cell_type": "code",
   "execution_count": null,
   "metadata": {},
   "outputs": [],
   "source": [
    "id(variable)"
   ]
  },
  {
   "cell_type": "code",
   "execution_count": 79,
   "metadata": {},
   "outputs": [
    {
     "data": {
      "text/plain": [
       "2165622310464"
      ]
     },
     "execution_count": 79,
     "metadata": {},
     "output_type": "execute_result"
    }
   ],
   "source": [
    "variable[0] = 10\n",
    "id(variable)"
   ]
  },
  {
   "cell_type": "code",
   "execution_count": null,
   "metadata": {},
   "outputs": [],
   "source": [
    "variable2 = variable.append(10)\n",
    "id(variable2)"
   ]
  },
  {
   "cell_type": "code",
   "execution_count": null,
   "metadata": {},
   "outputs": [],
   "source": [
    "# ex)\n",
    "# effect 함수 > 특정변수 변경 시 실행\n",
    "# effect 함수는 list변수 변경 시 실행되도록 설정\n",
    "# list = [1, 2, 3, 4, 5]\n",
    "# list[0] = 5\n",
    "# > 실행 X / 주소가 안바뀌기 때문에 변경으로 인식되지 않는다"
   ]
  }
 ],
 "metadata": {
  "kernelspec": {
   "display_name": "Python 3",
   "language": "python",
   "name": "python3"
  },
  "language_info": {
   "codemirror_mode": {
    "name": "ipython",
    "version": 3
   },
   "file_extension": ".py",
   "mimetype": "text/x-python",
   "name": "python",
   "nbconvert_exporter": "python",
   "pygments_lexer": "ipython3",
   "version": "3.12.2"
  }
 },
 "nbformat": 4,
 "nbformat_minor": 2
}

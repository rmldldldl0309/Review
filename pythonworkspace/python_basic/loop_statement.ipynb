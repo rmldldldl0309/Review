{
 "cells": [
  {
   "cell_type": "code",
   "execution_count": null,
   "metadata": {},
   "outputs": [],
   "source": [
    "# 반복문\n",
    "# for반복문: 반복할 횟수가 정해져있는 반복 작업에서 사용\n",
    "# for 변수 in range(반복횟수):\n",
    "#   반복할 실행문"
   ]
  },
  {
   "cell_type": "code",
   "execution_count": null,
   "metadata": {},
   "outputs": [],
   "source": [
    "# for (int index = 0; index < 5; index ++)  > X\n",
    "\n",
    "# int[] array = {0, 1, 2, 3, 4};\n",
    "# for (int idenx : array){}                 > O\n",
    "\n",
    "# range(w정수): 0부터 정수만큼의 길이를 가지는 정수 리스트 생성\n",
    "# range(시작 정수, 종료 정수): 시작 정수부터 종료 정수까지는\n",
    "# range(시작 정수, 종료 정수, 차이): 시작 정수부터 종료 -  1까지의 정수 리스트 생성\n",
    "\n",
    "print(list(range(5)))\n",
    "\n",
    "for index in range(5):\n",
    "    print('반복실행문')\n",
    "\n",
    "for index in range(5, 10):\n",
    "    print(index)\n",
    "\n",
    "for index in range(5, 10, 3):\n",
    "    print(index)\n",
    "for index in range(10,-1,-1):\n",
    "    print(index)\n"
   ]
  },
  {
   "cell_type": "code",
   "execution_count": null,
   "metadata": {},
   "outputs": [],
   "source": [
    "for i in range(10):\n",
    "    print('*' * i)"
   ]
  },
  {
   "cell_type": "code",
   "execution_count": null,
   "metadata": {},
   "outputs": [],
   "source": [
    "for i in range(10, 0, -1):\n",
    "    print('*' * i)"
   ]
  },
  {
   "cell_type": "code",
   "execution_count": null,
   "metadata": {},
   "outputs": [],
   "source": [
    "for i in range(20):\n",
    "    if i <= 10:\n",
    "        print('*' * i)\n",
    "    else:\n",
    "        print('*' * (20 - i))"
   ]
  },
  {
   "cell_type": "code",
   "execution_count": null,
   "metadata": {},
   "outputs": [],
   "source": [
    "for i in range(1,12):\n",
    "    if i <= 6:\n",
    "        print(' ' * (6 - i) + '*' * (2 * i - 1))\n",
    "    else:\n",
    "        print(' ' * (i - 6) + '*' * (23 - 2 * i))"
   ]
  },
  {
   "cell_type": "code",
   "execution_count": null,
   "metadata": {},
   "outputs": [],
   "source": [
    "for i in range(1, 12):\n",
    "    if i <= 6:\n",
    "        star = \"*\" * (i * 2 - 1) \n",
    "    else:\n",
    "        star = \"*\" * (23 - 2*i)\n",
    "    print(f'{star:^11}')"
   ]
  },
  {
   "cell_type": "code",
   "execution_count": null,
   "metadata": {},
   "outputs": [],
   "source": [
    "for i in range(0, 13):\n",
    "    if i <= 6:\n",
    "        print(' ' * (i) + '*' * (13 - 2 * i))\n",
    "    else:\n",
    "        print(' ' * (12 - i) + '*' * (2 * i - 11))"
   ]
  },
  {
   "cell_type": "code",
   "execution_count": null,
   "metadata": {},
   "outputs": [],
   "source": [
    "for i in range(0, 13):\n",
    "    if i <= 6:\n",
    "        star = \"*\" * (13 - 2 * i) \n",
    "    else:\n",
    "        star = \"*\" * (2 * i - 11)\n",
    "    print(f'{star:^13}')"
   ]
  },
  {
   "cell_type": "code",
   "execution_count": null,
   "metadata": {},
   "outputs": [],
   "source": [
    "for i in range(4):\n",
    "    for j in range(4):\n",
    "        print(i + j, end = \" \")\n",
    "    print(\" \")"
   ]
  },
  {
   "cell_type": "code",
   "execution_count": null,
   "metadata": {},
   "outputs": [],
   "source": [
    "for start in range(4):\n",
    "    for value in range(start, start + 4):\n",
    "        print(value, end=\" \")\n",
    "    print(\" \")"
   ]
  },
  {
   "cell_type": "code",
   "execution_count": 106,
   "metadata": {},
   "outputs": [
    {
     "name": "stdout",
     "output_type": "stream",
     "text": [
      "1 3\n",
      "2 2\n",
      "2 6\n",
      "3 1\n",
      "3 5\n",
      "4 4\n",
      "5 3\n",
      "6 2\n",
      "6 6\n"
     ]
    }
   ],
   "source": [
    "for a in range(1, 7):\n",
    "    for b in range(1, 7):\n",
    "        if (a + b) % 4 == 0:\n",
    "            print(f'{a} {b}')"
   ]
  },
  {
   "cell_type": "code",
   "execution_count": 105,
   "metadata": {},
   "outputs": [],
   "source": [
    "# 어떤 주식의 가격은 매일 한 번 동전을 던져서 앞면이 나오면 전날 가격의 2배가 되고, \n",
    "# 뒷면이 나오면 전날 가격의 절반이 된다. 1일에 주식의 가격이 1,024원이었을 때, \n",
    "# 4일 주식의 가격이 나올 수 있는 경우를 모두 구한다. (힌트: for 반복문이 3개 중첩되어야 한다)"
   ]
  },
  {
   "cell_type": "code",
   "execution_count": 199,
   "metadata": {},
   "outputs": [
    {
     "name": "stdout",
     "output_type": "stream",
     "text": [
      "0\n",
      "64.0\n",
      "1\n",
      "128.0\n",
      "2\n",
      "1024\n",
      "3\n",
      "8192\n",
      "1\n",
      "128.0\n",
      "2\n",
      "1024\n",
      "3\n",
      "8192\n",
      "4\n",
      "16384\n"
     ]
    }
   ],
   "source": [
    "price = 1024\n",
    "# 동전 던지기\n",
    "for i in range(2): \n",
    "    # 4일 동안\n",
    "    for j in range(4):\n",
    "        price = 1024\n",
    "        n = i + j\n",
    "        print(n)\n",
    "        if n == 0:\n",
    "            price = price / 16\n",
    "            print(price)\n",
    "        if n == 1:\n",
    "            price = price / 8\n",
    "            print(price)\n",
    "        if n == 2:\n",
    "            print(price)\n",
    "        if n == 3:\n",
    "            price = price * 8\n",
    "            print(price)\n",
    "        if n == 4:\n",
    "            price = price * 16\n",
    "            print(price)      "
   ]
  },
  {
   "cell_type": "code",
   "execution_count": 197,
   "metadata": {},
   "outputs": [
    {
     "name": "stdout",
     "output_type": "stream",
     "text": [
      "1\n",
      "3\n",
      "6\n",
      "10\n",
      "15\n",
      "21\n",
      "28\n",
      "36\n",
      "45\n",
      "55\n"
     ]
    }
   ],
   "source": [
    "for count in range(1, 11):\n",
    "    sum = 0\n",
    "    for value in range(count + 1):\n",
    "        sum += value\n",
    "    print(sum)"
   ]
  },
  {
   "cell_type": "code",
   "execution_count": 184,
   "metadata": {},
   "outputs": [],
   "source": [
    "# 다음과 같은 수열이 있을 경우에 10번째 수열의 값을 구한다.\n",
    "\n",
    "# 1+(1+2)+(1+2+3)+(1+2+3+4)+⋯+(1+⋯+10)"
   ]
  },
  {
   "cell_type": "code",
   "execution_count": 192,
   "metadata": {},
   "outputs": [
    {
     "name": "stdout",
     "output_type": "stream",
     "text": [
      "220\n"
     ]
    }
   ],
   "source": [
    "sum = 0\n",
    "for count in range(1, 11):\n",
    "    for value in range(count + 1):\n",
    "        sum += value\n",
    "print(sum)"
   ]
  }
 ],
 "metadata": {
  "kernelspec": {
   "display_name": "Python 3",
   "language": "python",
   "name": "python3"
  },
  "language_info": {
   "codemirror_mode": {
    "name": "ipython",
    "version": 3
   },
   "file_extension": ".py",
   "mimetype": "text/x-python",
   "name": "python",
   "nbconvert_exporter": "python",
   "pygments_lexer": "ipython3",
   "version": "3.12.2"
  }
 },
 "nbformat": 4,
 "nbformat_minor": 2
}

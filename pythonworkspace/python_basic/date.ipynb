{
 "cells": [
  {
   "cell_type": "code",
   "execution_count": null,
   "metadata": {},
   "outputs": [],
   "source": [
    "# datetime 패키지\n",
    "# datetime 패키지는 날짜 및 시간을 관리하는 datetime 클래스, 날짜를 관리하는 date클래스, 시간을 관리하는 time클래스,\n",
    "# 시간 구간을 관리하는 timedelta클래스를 제공"
   ]
  },
  {
   "cell_type": "code",
   "execution_count": 31,
   "metadata": {},
   "outputs": [],
   "source": [
    "import datetime as dt"
   ]
  },
  {
   "cell_type": "code",
   "execution_count": null,
   "metadata": {},
   "outputs": [],
   "source": [
    "# datetime.datetime 클래스\n",
    "# now(): 현재시간을 반환하는 메서드"
   ]
  },
  {
   "cell_type": "code",
   "execution_count": 32,
   "metadata": {},
   "outputs": [
    {
     "data": {
      "text/plain": [
       "datetime.datetime(2024, 2, 20, 14, 37, 59, 469924)"
      ]
     },
     "execution_count": 32,
     "metadata": {},
     "output_type": "execute_result"
    }
   ],
   "source": [
    "now = dt.datetime.now()\n",
    "now"
   ]
  },
  {
   "cell_type": "code",
   "execution_count": null,
   "metadata": {},
   "outputs": [],
   "source": [
    "# datetime 인스턴스는 year, month, day, hour, minute, second, microsecond 속성을 가진다"
   ]
  },
  {
   "cell_type": "code",
   "execution_count": null,
   "metadata": {},
   "outputs": [],
   "source": [
    "now.year, now.month, now.day, now.hour, now.minute, now.second, now.microsecond"
   ]
  },
  {
   "cell_type": "code",
   "execution_count": 33,
   "metadata": {},
   "outputs": [
    {
     "data": {
      "text/plain": [
       "int"
      ]
     },
     "execution_count": 33,
     "metadata": {},
     "output_type": "execute_result"
    }
   ],
   "source": [
    "type(now.year)"
   ]
  },
  {
   "cell_type": "code",
   "execution_count": null,
   "metadata": {},
   "outputs": [],
   "source": [
    "# datetime 인스턴스의 메서드 weekday()는 요일을 반환한다 (0:월 ~ 6:일)"
   ]
  },
  {
   "cell_type": "code",
   "execution_count": null,
   "metadata": {},
   "outputs": [],
   "source": [
    "now.weekday()"
   ]
  },
  {
   "cell_type": "code",
   "execution_count": null,
   "metadata": {},
   "outputs": [],
   "source": [
    "# datetime 인스턴스의 메서드 strftime('날짜 및 시간 포멧 문자열')은 인스턴스에 저장된 시간을\n",
    "# 지정한 포멧의 문자열로 변환\n",
    "# %Y: 4자리의 연도\n",
    "# %m: 2자리의 월\n",
    "# %d: 2주라의 일\n",
    "# %H: 24시간으로 표현되는 시간\n",
    "# %I: 12시간으로 표현되는 시간\n",
    "# %p: 오전, 오후 (AM, PM) 표현\n",
    "# %M: 2자리의 분\n",
    "# %S: 2자리의 초\n",
    "# %A: 영문자로 된 요일"
   ]
  },
  {
   "cell_type": "code",
   "execution_count": null,
   "metadata": {},
   "outputs": [],
   "source": [
    "# PM 02:28 2024-02-20\n",
    "now.strftime('%p %D: %I %M %Y %m %d')"
   ]
  },
  {
   "cell_type": "code",
   "execution_count": null,
   "metadata": {},
   "outputs": [],
   "source": [
    "# datetime 인스턴스의 메서드 strptime('날짜 문자열', '날짜 및 시간 포멧 문자열')은 문자열을 datetime인스턴스로 변경"
   ]
  },
  {
   "cell_type": "code",
   "execution_count": null,
   "metadata": {},
   "outputs": [],
   "source": [
    "dt.datetime.strptime('2023-11-20', '%Y - %m - %d')"
   ]
  },
  {
   "cell_type": "code",
   "execution_count": 25,
   "metadata": {},
   "outputs": [],
   "source": [
    "# 자신의 생일을 나타내는 datetime 클래스 객체를 만들고 오늘 자신의 만 나이를 구하라 (힌트: YYYYMMDD 형식의 숫자를 만들고 빼기 연산을 한다.)"
   ]
  },
  {
   "cell_type": "code",
   "execution_count": 45,
   "metadata": {},
   "outputs": [
    {
     "data": {
      "text/plain": [
       "24"
      ]
     },
     "execution_count": 45,
     "metadata": {},
     "output_type": "execute_result"
    }
   ],
   "source": [
    "my_birth = dt.datetime.strptime('1999-03-09', '%Y-%m-%d')\n",
    "today = dt.datetime.now()\n",
    "\n",
    "age = today.year - my_birth.year\n",
    "if today.month < my_birth.month:\n",
    "    age -= 1\n",
    "elif today.month == my_birth.month and today.day < my_birth.day:\n",
    "    age -= 1\n",
    "\n",
    "age"
   ]
  },
  {
   "cell_type": "code",
   "execution_count": 46,
   "metadata": {},
   "outputs": [],
   "source": [
    "# dateutil 패키지\n",
    "# dateutil 패키지의 parser 하위 패키지의 parse 함수를 사용하여 \n",
    "# 문자열 형식의 데이터를 자동으로 datetime 클래스의 인스턴스로 변경해줌"
   ]
  },
  {
   "cell_type": "code",
   "execution_count": 47,
   "metadata": {},
   "outputs": [],
   "source": [
    "from dateutil.parser import parse"
   ]
  },
  {
   "cell_type": "code",
   "execution_count": 54,
   "metadata": {},
   "outputs": [
    {
     "data": {
      "text/plain": [
       "datetime.datetime(2024, 2, 20, 14, 50)"
      ]
     },
     "execution_count": 54,
     "metadata": {},
     "output_type": "execute_result"
    }
   ],
   "source": [
    "parse('14:50 2024-02-20')"
   ]
  },
  {
   "cell_type": "code",
   "execution_count": 55,
   "metadata": {},
   "outputs": [],
   "source": [
    "# 날짜 및 시간의 차이\n",
    "# datetime 인스턴스 끼리 -연산으로 날짜 및 시간의 차이를 구할 수 있다\n",
    "# 날짜 및 시간의 차이는 timedelta클래스의 인스턴스로 반환"
   ]
  },
  {
   "cell_type": "code",
   "execution_count": 103,
   "metadata": {},
   "outputs": [
    {
     "data": {
      "text/plain": [
       "datetime.timedelta(days=9, seconds=31560, microseconds=883764)"
      ]
     },
     "execution_count": 103,
     "metadata": {},
     "output_type": "execute_result"
    }
   ],
   "source": [
    "date1 = dt.datetime.strptime('2024-03-01', '%Y-%m-%d')\n",
    "date2 = dt.datetime.now()\n",
    "date_gap = date1 - date2\n",
    "date_gap"
   ]
  },
  {
   "cell_type": "code",
   "execution_count": 107,
   "metadata": {},
   "outputs": [
    {
     "data": {
      "text/plain": [
       "883764"
      ]
     },
     "execution_count": 107,
     "metadata": {},
     "output_type": "execute_result"
    }
   ],
   "source": [
    "date_gap.days\n",
    "date_gap.seconds\n",
    "date_gap.microseconds"
   ]
  },
  {
   "cell_type": "code",
   "execution_count": 110,
   "metadata": {},
   "outputs": [
    {
     "data": {
      "text/plain": [
       "809160.883764"
      ]
     },
     "execution_count": 110,
     "metadata": {},
     "output_type": "execute_result"
    }
   ],
   "source": [
    "date_gap.total_seconds()"
   ]
  },
  {
   "cell_type": "code",
   "execution_count": 111,
   "metadata": {},
   "outputs": [],
   "source": [
    "# 날짜 및 시간 연산\n",
    "# datetime 인스턴스에 timedelta 인스턴스를 + or - 연산하여 날짜를 더하거나 뺄 수 있다"
   ]
  },
  {
   "cell_type": "code",
   "execution_count": 114,
   "metadata": {},
   "outputs": [
    {
     "data": {
      "text/plain": [
       "datetime.datetime(2024, 3, 1, 14, 43, 43, 973981)"
      ]
     },
     "execution_count": 114,
     "metadata": {},
     "output_type": "execute_result"
    }
   ],
   "source": [
    "date_gap = dt.timedelta(days = 10, seconds = 0)\n",
    "now + date_gap"
   ]
  },
  {
   "cell_type": "code",
   "execution_count": 115,
   "metadata": {},
   "outputs": [],
   "source": [
    "# dateutil 패키지의 하위 relativedelta 패키지의 relativedelta 메서드\n",
    "# timedelta가 day 단위로 연산할 수 있는 단점을 보완하기 위해 relativedelta 메서드로 월단위 연산을 할 수 있도록 함"
   ]
  },
  {
   "cell_type": "code",
   "execution_count": 119,
   "metadata": {},
   "outputs": [
    {
     "data": {
      "text/plain": [
       "datetime.datetime(2023, 11, 20, 14, 43, 43, 973981)"
      ]
     },
     "execution_count": 119,
     "metadata": {},
     "output_type": "execute_result"
    }
   ],
   "source": [
    "from dateutil.relativedelta import relativedelta\n",
    "now - relativedelta(months=3)"
   ]
  },
  {
   "cell_type": "code",
   "execution_count": 120,
   "metadata": {},
   "outputs": [],
   "source": [
    "# 자신의 내년 생일까지 남은 날 수를 계산하라.\n",
    "# 자신의 내년 생일까지 남은 시간을 분 단위로 계산하라."
   ]
  },
  {
   "cell_type": "code",
   "execution_count": 143,
   "metadata": {},
   "outputs": [
    {
     "name": "stdout",
     "output_type": "stream",
     "text": [
      "383\n"
     ]
    },
    {
     "data": {
      "text/plain": [
       "550579.793804"
      ]
     },
     "execution_count": 143,
     "metadata": {},
     "output_type": "execute_result"
    }
   ],
   "source": [
    "today = dt.datetime.now()\n",
    "birth = dt.datetime.strptime('2025-03-09', '%Y-%m-%d')\n",
    "\n",
    "day_gap = birth - today\n",
    "is_zero_second = day_gap.seconds == 0 and day_gap.microseconds == 0\n",
    "\n",
    "rest_day = day_gap.days if is_zero_second else day_gap.days + 1\n",
    "print(rest_day)\n",
    "\n",
    "rest_minute = day_gap.total_seconds()/60\n",
    "rest_minute"
   ]
  },
  {
   "cell_type": "code",
   "execution_count": 144,
   "metadata": {},
   "outputs": [],
   "source": [
    "# time 패키지 sleep 메서드 \n",
    "# 지정한 초만큼 프로세스 진행을 멈추도록하는 메서드"
   ]
  },
  {
   "cell_type": "code",
   "execution_count": 145,
   "metadata": {},
   "outputs": [
    {
     "name": "stdout",
     "output_type": "stream",
     "text": [
      "5\n",
      "4\n",
      "3\n",
      "2\n",
      "1\n",
      "종료\n"
     ]
    }
   ],
   "source": [
    "import time\n",
    "print(5)\n",
    "time.sleep(1)\n",
    "print(4)\n",
    "time.sleep(1)\n",
    "print(3)\n",
    "time.sleep(1)\n",
    "print(2)\n",
    "time.sleep(1)\n",
    "print(1)\n",
    "time.sleep(1)\n",
    "print('종료')"
   ]
  }
 ],
 "metadata": {
  "kernelspec": {
   "display_name": "Python 3",
   "language": "python",
   "name": "python3"
  },
  "language_info": {
   "codemirror_mode": {
    "name": "ipython",
    "version": 3
   },
   "file_extension": ".py",
   "mimetype": "text/x-python",
   "name": "python",
   "nbconvert_exporter": "python",
   "pygments_lexer": "ipython3",
   "version": "3.12.2"
  }
 },
 "nbformat": 4,
 "nbformat_minor": 2
}
